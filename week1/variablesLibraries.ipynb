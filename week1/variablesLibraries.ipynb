{
  "cells": [
    {
      "cell_type": "markdown",
      "metadata": {
        "colab_type": "text",
        "id": "view-in-github"
      },
      "source": [
        "<a href=\"https://colab.research.google.com/github/jcdevaney/imc2023/blob/main/week1/variablesLibraries.ipynb\" target=\"_parent\"><img src=\"https://colab.research.google.com/assets/colab-badge.svg\" alt=\"Open In Colab\"/></a>"
      ]
    },
    {
      "cell_type": "markdown",
      "metadata": {
        "id": "sRDbCDkX195H"
      },
      "source": [
        "# Variables"
      ]
    },
    {
      "cell_type": "markdown",
      "metadata": {
        "id": "UgSwSiyK1nW6"
      },
      "source": [
        "## Example Code"
      ]
    },
    {
      "cell_type": "code",
      "execution_count": 1,
      "metadata": {
        "id": "DOF2qPUzf1o9"
      },
      "outputs": [],
      "source": [
        "fundamental = 55"
      ]
    },
    {
      "cell_type": "code",
      "execution_count": 2,
      "metadata": {
        "colab": {
          "base_uri": "https://localhost:8080/"
        },
        "id": "DA-nvgnc1ZIU",
        "outputId": "aa1010e2-73da-44b3-b582-f754ddb5f0df"
      },
      "outputs": [
        {
          "name": "stdout",
          "output_type": "stream",
          "text": [
            "55\n"
          ]
        }
      ],
      "source": [
        "print(fundamental)"
      ]
    },
    {
      "cell_type": "code",
      "execution_count": 3,
      "metadata": {
        "colab": {
          "base_uri": "https://localhost:8080/"
        },
        "id": "hOqDPDxE1a48",
        "outputId": "319bfe98-21c3-4983-a2ac-04b1e3d8b261"
      },
      "outputs": [
        {
          "name": "stdout",
          "output_type": "stream",
          "text": [
            "110\n"
          ]
        }
      ],
      "source": [
        "firstPartial = 55 * 2\n",
        "print(firstPartial)"
      ]
    },
    {
      "cell_type": "markdown",
      "metadata": {
        "id": "3oqZxry-1yQg"
      },
      "source": [
        "## Exercise: Calculate the values of the partials 2 through 6 above 55 Hz "
      ]
    },
    {
      "cell_type": "code",
      "execution_count": 4,
      "metadata": {},
      "outputs": [
        {
          "name": "stdout",
          "output_type": "stream",
          "text": [
            "[165, 220, 275, 330]\n"
          ]
        }
      ],
      "source": [
        "def calc_partial(n, fundamental):\n",
        "    return fundamental * (n + 1)\n",
        "\n",
        "def partial_series(start, stop, fundamental):\n",
        "    idx = start\n",
        "    while idx < stop:\n",
        "        yield calc_partial(idx, fundamental)\n",
        "        idx += 1\n",
        "\n",
        "print(list(partial_series(2,6, 55)))"
      ]
    },
    {
      "cell_type": "markdown",
      "metadata": {
        "id": "UVPzEmTQ2FOb"
      },
      "source": [
        "# Libraries"
      ]
    },
    {
      "cell_type": "markdown",
      "metadata": {
        "id": "x1QAim5I2I-g"
      },
      "source": [
        "## Example Code"
      ]
    },
    {
      "cell_type": "code",
      "execution_count": 5,
      "metadata": {
        "colab": {
          "base_uri": "https://localhost:8080/"
        },
        "id": "bzfqHhwG1d95",
        "outputId": "c3840d62-8317-4cff-8cc2-a8e2d2ae454b"
      },
      "outputs": [
        {
          "name": "stdout",
          "output_type": "stream",
          "text": [
            "701.9550008653874\n"
          ]
        }
      ],
      "source": [
        "import math\n",
        "cents = math.log(3/2) * 1200 / math.log(2)\n",
        "print(cents)"
      ]
    },
    {
      "cell_type": "code",
      "execution_count": 6,
      "metadata": {
        "colab": {
          "base_uri": "https://localhost:8080/"
        },
        "id": "ZWYvwyBv2hB-",
        "outputId": "deb8a745-d01e-43b1-8bc1-9094e61804cf"
      },
      "outputs": [
        {
          "name": "stdout",
          "output_type": "stream",
          "text": [
            "701.9550008653874\n"
          ]
        }
      ],
      "source": [
        "cents = math.log(165/110) * 1200 / math.log(2)\n",
        "print(cents)"
      ]
    },
    {
      "cell_type": "markdown",
      "metadata": {
        "id": "2D7hNTPb2MPy"
      },
      "source": [
        "## Exercise: Calculate the difference in cents between partials 2 through 6 above 55 Hz"
      ]
    },
    {
      "cell_type": "code",
      "execution_count": 24,
      "metadata": {
        "id": "VS7-hgqz1w5B"
      },
      "outputs": [
        {
          "name": "stdout",
          "output_type": "stream",
          "text": [
            "The difference between 165Hz and 220Hz is 498.04499913461245 cents\n",
            "The difference between 220Hz and 275Hz is 386.3137138648348 cents\n",
            "The difference between 275Hz and 330Hz is 315.64128700055255 cents\n"
          ]
        }
      ],
      "source": [
        "start = 2\n",
        "stop = 5\n",
        "fundamental = 55\n",
        "\n",
        "for last, curr in zip(partial_series(start, stop, fundamental), \n",
        "                      partial_series(start+1, stop+1, fundamental)):\n",
        "    cents_diff = math.log(curr/last) * 1200 / math.log(2)\n",
        "    print(f\"The difference between {last}Hz and {curr}Hz is {cents_diff} cents\")"
      ]
    }
  ],
  "metadata": {
    "colab": {
      "authorship_tag": "ABX9TyPwuoct+KYaT0ajyXYkKBPL",
      "collapsed_sections": [
        "UgSwSiyK1nW6",
        "x1QAim5I2I-g",
        "2D7hNTPb2MPy"
      ],
      "include_colab_link": true,
      "provenance": []
    },
    "kernelspec": {
      "display_name": "Python 3",
      "language": "python",
      "name": "python3"
    },
    "language_info": {
      "codemirror_mode": {
        "name": "ipython",
        "version": 3
      },
      "file_extension": ".py",
      "mimetype": "text/x-python",
      "name": "python",
      "nbconvert_exporter": "python",
      "pygments_lexer": "ipython3",
      "version": "3.10.5"
    },
    "vscode": {
      "interpreter": {
        "hash": "26de051ba29f2982a8de78e945f0abaf191376122a1563185a90213a26c5da77"
      }
    }
  },
  "nbformat": 4,
  "nbformat_minor": 0
}
